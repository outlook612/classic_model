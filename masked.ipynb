{
 "cells": [
  {
   "cell_type": "code",
   "execution_count": null,
   "id": "95367a29",
   "metadata": {},
   "outputs": [
    {
     "name": "stdout",
     "output_type": "stream",
     "text": [
      "tensor([[5, 1, 0, 0, 0],\n",
      "        [5, 3, 2, 1, 0]])\n",
      "tensor([[6, 4, 1, 7, 0],\n",
      "        [1, 6, 7, 0, 0]])\n"
     ]
    }
   ],
   "source": [
    "import torch\n",
    "import numpy \n",
    "import torch.nn as nn\n",
    "import torch.nn.functional as F\n",
    "\n",
    "#关于word embedding 以序列建模\n",
    "\n",
    "batch_size=2\n",
    "max_num_src_words=8\n",
    "max_num_tgt_words=8\n",
    "#序列的最大长度\n",
    "max_src_seq_len=5\n",
    "max_tgt_seq_len=5\n",
    "#以上是初始化规模\n",
    "\n",
    "#src_len=torch.randint(2,5,(batch_size,))\n",
    "#tgt_len=torch.randint(2,5,(batch_size,))\n",
    "src_len=torch.Tensor([2,4]).to(torch.int32)\n",
    "tgt_len=torch.Tensor([4,3]).to(torch.int32)\n",
    "#位置索引\n",
    "\n",
    "\n",
    "#单词索引构成的句子\n",
    "\n",
    "src_seq=torch.cat(\n",
    "        [torch.unsqueeze(\n",
    "            F.pad(\n",
    "                torch.randint(1,max_num_src_words,(L,)),\n",
    "                (0,max_src_seq_len-L))\n",
    "        ,0) \n",
    "    for L in src_len])\n",
    "#torch.randint(min,max,size)      在min和max之间随机数，用来生成size形状的序列      不写就是向量，,1表示一维向量\n",
    "#F.pad(x,(num,len)) 在x右侧填充len个num     保持对齐\n",
    "#torch.unsqueeze(x,0)  在维度0上增加一个维度\n",
    "#torch.cat()        将所有样本在第0维拼接\n",
    "\n",
    "tgt_seq=torch.cat(\n",
    "        [torch.unsqueeze(\n",
    "            F.pad(\n",
    "                torch.randint(1,max_num_tgt_words,(L,)),\n",
    "                (0,max_tgt_seq_len-L))\n",
    "        ,0) \n",
    "    for L in tgt_len])\n",
    "print(src_seq)\n",
    "print(tgt_seq)\n",
    "#根据前面规定的最大字类别范围，在这个最大范围里随机生成 长度为规定len的序列，并填充0以保证对齐，拼接\n",
    "#src_len 为2，4 则生成src_seq为2个数，4个数     tgt同理"
   ]
  },
  {
   "cell_type": "code",
   "execution_count": 22,
   "id": "7e88117e",
   "metadata": {},
   "outputs": [],
   "source": [
    "#构造word embedding\n",
    "model_dim=8\n",
    "#特征大小。paper中为512\n",
    "src_embedding_table=nn.Embedding(max_num_src_words+1,model_dim)\n",
    "tgt_embedding_table=nn.Embedding(max_num_tgt_words+1,model_dim)\n",
    "#先根据最大子类别范围和人为规定的维度深度生成字典，这个字典是实现人类可读文字和计算机可读字典的转换\n",
    "\n",
    "#print(\"src_embedding_table:\",src_embedding_table)\n",
    "#print(src_embedding_table.weight)\n",
    "\n",
    "src_embedding=src_embedding_table(src_seq)\n",
    "#print(src_seq)\n",
    "#print(src_embedding)\n",
    "\n",
    "\n",
    "#src_embedding_table 文字转embedding的字典\n",
    "#src_seq原文\n",
    "#src_embedding 根据字典转译后的形式\n",
    "#[[ 3,7,0,0,0],\n",
    "# [2,1,4,6,0] ]\n",
    "#第一维度的第一个元素为3，查看字典，字典从0开始，第四行就表示3\n",
    "#刚好相对应\n",
    "tgt_embedding=tgt_embedding_table(tgt_seq)\n",
    "\n",
    "#根字典，将最开始设置好的seq序列转换为计算机可读的形式\n"
   ]
  },
  {
   "cell_type": "code",
   "execution_count": 23,
   "id": "a9217a0a",
   "metadata": {},
   "outputs": [
    {
     "data": {
      "image/jpeg": "[encoded data removed]",
      "image/png": "[encoded data removed]",
      "text/plain": [
       "<PIL.PngImagePlugin.PngImageFile image mode=RGB size=629x108>"
      ]
     },
     "metadata": {},
     "output_type": "display_data"
    }
   ],
   "source": [
    "#构建Position embedding\n",
    "from PIL import Image\n",
    "img = Image.open(\"/home/code/transformer/position_embedding.png\")\n",
    "img.show()\n",
    "#构造频率因子的原理公式\n"
   ]
  },
  {
   "cell_type": "code",
   "execution_count": null,
   "id": "66bf277c",
   "metadata": {},
   "outputs": [],
   "source": [
    "max_position_len=5\n",
    "#公式里的pos取值\n",
    "pos_mat=torch.arange(max_position_len).reshape((-1,1))#只有一列\n",
    "#将pos的所有可能都罗列出来，转换为一列的形式\n",
    "# print(pos_mat)\n",
    "#reshape((-1,1))    -1表示自动计算维度大小  (n,)计算后(n,1) 一行变成二维    (3,4) 12个元素，12/1=12，变成(12,1)\n",
    "#第二个数表示  最小单位的[] 里面有几个元素\n",
    "#公式里的i取值\n",
    "i_mat=torch.pow(10000,torch.arange(0,8,2).reshape((1,-1))/model_dim)\n",
    "#将i的可能都罗列出来，转换成一行的形式\n",
    "#print(i_mat)\n",
    "#pe_embedding_table初始化\n",
    "pe_embedding_table=torch.zeros(max_position_len,model_dim)\n",
    "#先初始化一个pe频率因子的存储矩阵\n",
    "#print(\"初始化pe_embedding_table)：\",pe_embedding_table)\n",
    "pe_embedding_table[:,0::2]=torch.sin(pos_mat/i_mat)\n",
    "pe_embedding_table[:,1::2]=torch.cos(pos_mat/i_mat)\n",
    "#根据公式，将所有的位置点重新计算\n",
    "#print(\"计算频率因子（正弦/余弦函数的频率控制）pe_embedding_table\\n:\",pe_embedding_table)\n",
    "\n",
    "pe_embedding=nn.Embedding(max_position_len,model_dim)\n",
    "#生成一个字典，max_position_len种元素，每个元素深度是model_dim  paper中深度设为512，该模型代码设为8\n",
    "pe_embedding.weight=nn.Parameter(pe_embedding_table,requires_grad=False)\n",
    "#将预计算的位置编码表设置为嵌入层权重\n",
    "#并不是转换数据，而是将赋予普通张量特殊的功能和属性\n",
    "#和前面一样，初始化一个字典，然后将频率因子的矩阵转换成计算机可读的矩阵\n",
    "\n",
    "src_pos=torch.cat(\n",
    "                [torch.unsqueeze\n",
    "                        (torch.arange\n",
    "                                    (max(src_len))\n",
    "                        ,0) for _ in src_len]).to(torch.int32)\n",
    "#_ 是占位符，不实际使用序列长度值\n",
    "#只是表示 seq是根据src_len的列数生成随机元素，然后用0填满max(src_len)       所以是\n",
    "#pos则表示为每一个元素(即便是填充0)都加上一个位置编码，所以行数是seq的行数，列数是seq的列数\n",
    "tgt_pos=torch.cat(\n",
    "                [torch.unsqueeze\n",
    "                        (torch.arange\n",
    "                                    (max(tgt_len))\n",
    "                        ,0) for _ in tgt_len]).to(torch.int32)\n",
    "\n",
    "src_pos_embedding=pe_embedding(src_pos)\n",
    "tgt_pos_embedding=pe_embedding(tgt_pos)\n",
    "#使用pe_embedding这个字段，将我们初始化的位置编码转换为计算机可读的形式\n"
   ]
  },
  {
   "cell_type": "code",
   "execution_count": null,
   "id": "8930ced5",
   "metadata": {},
   "outputs": [
    {
     "name": "stdout",
     "output_type": "stream",
     "text": [
      "tensor([0.6702, 0.2981, 0.4245, 0.8224, 0.9100])\n",
      "tensor([[ 0.1605, -0.0389, -0.0394, -0.0410, -0.0413],\n",
      "        [-0.0389,  0.1561, -0.0379, -0.0395, -0.0398],\n",
      "        [-0.0394, -0.0379,  0.1576, -0.0400, -0.0403],\n",
      "        [-0.0410, -0.0395, -0.0400,  0.1623, -0.0420],\n",
      "        [-0.0413, -0.0398, -0.0403, -0.0420,  0.1634]])\n",
      "tensor([[ 5.6336e-02, -8.6921e-05, -3.0763e-04, -1.6449e-02, -3.9492e-02],\n",
      "        [-8.6921e-05,  1.4483e-03, -7.4455e-06, -3.9813e-04, -9.5583e-04],\n",
      "        [-3.0763e-04, -7.4455e-06,  5.1069e-03, -1.4090e-03, -3.3828e-03],\n",
      "        [-1.6449e-02, -3.9813e-04, -1.4090e-03,  1.9914e-01, -1.8089e-01],\n",
      "        [-3.9492e-02, -9.5583e-04, -3.3828e-03, -1.8089e-01,  2.2472e-01]])\n"
     ]
    },
    {
     "name": "stderr",
     "output_type": "stream",
     "text": [
      "/tmp/ipykernel_8351/523690113.py:8: UserWarning: Implicit dimension choice for softmax has been deprecated. Change the call to include dim=X as an argument.\n",
      "  return F.softmax(score)\n"
     ]
    }
   ],
   "source": [
    "#softmax演示\n",
    "alpha1=0.1\n",
    "alpha2=10\n",
    "score=torch.rand(5)\n",
    "print(score)\n",
    "\n",
    "def softmax_func(score):\n",
    "    return F.softmax(score)\n",
    "\n",
    "jaco_mat1=torch.autograd.functional.jacobian(softmax_func,score*alpha1)\n",
    "jaco_mat2=torch.autograd.functional.jacobian(softmax_func,score*alpha2)\n",
    "#求导以后直接求没了\n",
    "print(jaco_mat1)\n",
    "print(jaco_mat2)"
   ]
  },
  {
   "cell_type": "code",
   "execution_count": 87,
   "id": "bc91580f",
   "metadata": {},
   "outputs": [
    {
     "name": "stdout",
     "output_type": "stream",
     "text": [
      "tensor([[[False, False,  True,  True],\n",
      "         [False, False,  True,  True],\n",
      "         [ True,  True,  True,  True],\n",
      "         [ True,  True,  True,  True]],\n",
      "\n",
      "        [[False, False, False, False],\n",
      "         [False, False, False, False],\n",
      "         [False, False, False, False],\n",
      "         [False, False, False, False]]])\n"
     ]
    }
   ],
   "source": [
    "#构造encoder的self_attention mask\n",
    "#mask的shape [batch_size,max_src_len,max_src_len]   值为1或-inf\n",
    "#batch_size 每个样本都有自己的掩码\n",
    "#max_src_len 注意我\n",
    "#max_src_len 注意你\n",
    "#主要看attention的公式，Q和K转置的乘法  虽然是三维矩阵，只关注Batch内部相乘就行\n",
    "\n",
    "# \n",
    "# valid_encoder_pos_matrix=torch.bmm(valid_encoder_pos,valid_encoder_pos.transpose(1,2))\n",
    "\n",
    "\n",
    "\n",
    "valid_encoder_pos = torch.unsqueeze(#扩容，batch_size,max_scr_len扩容为batch_size,max_scr_len,1     下一步bmm矩阵乘法\n",
    "                        torch.cat(#将src_len不同的拼接\n",
    "                            [torch.unsqueeze(#将向量转换为矩阵\n",
    "                                F.pad(\n",
    "                                    torch.ones(L), \n",
    "                                    (0, max(src_len) - L)#初始化位置函数，那些位置有效，哪些位置为pad\n",
    "                                ),\n",
    "                                0\n",
    "                            ) \n",
    "                            for L in src_len]\n",
    "                        ),\n",
    "                        2\n",
    "                )   \n",
    "valid_encoder_pos_matrix=torch.bmm(valid_encoder_pos,valid_encoder_pos.transpose(1,2))\n",
    "#指明seq的有效位置，因为seq有0填充位\n",
    "invalid_encoder_pos_matrix=1-valid_encoder_pos_matrix\n",
    "mask_encoder_self_attention=invalid_encoder_pos_matrix.to(torch.bool)\n",
    "print(mask_encoder_self_attention)"
   ]
  },
  {
   "cell_type": "code",
   "execution_count": 90,
   "id": "888857ce",
   "metadata": {},
   "outputs": [
    {
     "name": "stdout",
     "output_type": "stream",
     "text": [
      "score:\n",
      " tensor([[[ 0.0671, -0.4546, -0.3829, -1.1251],\n",
      "         [ 0.3292, -0.5040,  0.4688,  0.7391],\n",
      "         [ 0.7421,  0.8774,  0.3877,  1.5007],\n",
      "         [ 1.8332, -1.4623,  1.7985,  0.9152]],\n",
      "\n",
      "        [[-0.8551, -0.0254, -0.0664,  1.6755],\n",
      "         [ 0.9452, -1.2291,  0.0351, -0.6641],\n",
      "         [ 0.1715,  2.4018, -0.8842, -1.2335],\n",
      "         [-1.6457,  0.3561, -1.1543, -0.5307]]])\n",
      "masked_score:\n",
      " tensor([[[ 0.0671, -0.4546,    -inf,    -inf],\n",
      "         [ 0.3292, -0.5040,    -inf,    -inf],\n",
      "         [   -inf,    -inf,    -inf,    -inf],\n",
      "         [   -inf,    -inf,    -inf,    -inf]],\n",
      "\n",
      "        [[-0.8551, -0.0254, -0.0664,  1.6755],\n",
      "         [ 0.9452, -1.2291,  0.0351, -0.6641],\n",
      "         [ 0.1715,  2.4018, -0.8842, -1.2335],\n",
      "         [-1.6457,  0.3561, -1.1543, -0.5307]]])\n",
      "prob:\n",
      " tensor([[[0.6275, 0.3725, 0.0000, 0.0000],\n",
      "         [0.6970, 0.3030, 0.0000, 0.0000],\n",
      "         [   nan,    nan,    nan,    nan],\n",
      "         [   nan,    nan,    nan,    nan]],\n",
      "\n",
      "        [[0.0554, 0.1270, 0.1219, 0.6957],\n",
      "         [0.5827, 0.0662, 0.2345, 0.1165],\n",
      "         [0.0918, 0.8538, 0.0319, 0.0225],\n",
      "         [0.0764, 0.5657, 0.1249, 0.2330]]])\n"
     ]
    }
   ],
   "source": [
    "import numpy as np\n",
    "score=torch.randn(batch_size,max(src_len),max(src_len))\n",
    "print(\"score:\\n\",score)\n",
    "masked_score=score.masked_fill(mask_encoder_self_attention,-np.inf)\n",
    "print(\"masked_score:\\n\",masked_score)\n",
    "prob=F.softmax(masked_score,-1)\n",
    "print(\"prob:\\n\",prob)\n"
   ]
  },
  {
   "cell_type": "code",
   "execution_count": null,
   "id": "cfca769f",
   "metadata": {},
   "outputs": [
    {
     "name": "stdout",
     "output_type": "stream",
     "text": [
      "tensor([[[False, False,  True,  True],\n",
      "         [False, False,  True,  True],\n",
      "         [False, False,  True,  True],\n",
      "         [False, False,  True,  True]],\n",
      "\n",
      "        [[False, False, False, False],\n",
      "         [False, False, False, False],\n",
      "         [False, False, False, False],\n",
      "         [ True,  True,  True,  True]]])\n"
     ]
    }
   ],
   "source": [
    "#intra-attention mask 内部的注意力机制\n",
    "# Q * K^T   shape [batch_size,tgt_seq_len,src_seq_len]\n",
    "valid_encoder_pos=torch.unsqueeze(\n",
    "    torch.cat(\n",
    "        [torch.unsqueeze(\n",
    "            F.pad(\n",
    "                torch.ones(L),\n",
    "                (0,max(src_len)-L)\n",
    "            ),\n",
    "            0\n",
    "        )\n",
    "        for L in src_len]\n",
    "    ),\n",
    "    2\n",
    ")\n",
    "\n",
    "valid_decoder_pos=torch.unsqueeze(\n",
    "    torch.cat(\n",
    "        [torch.unsqueeze(\n",
    "            F.pad(\n",
    "                torch.ones(L),\n",
    "                (0,max(tgt_len)-L)\n",
    "            ),\n",
    "            0\n",
    "        )\n",
    "        for L in tgt_len]\n",
    "    ),\n",
    "    2\n",
    ")\n",
    "\n",
    "valid_cross_pos_matrix=torch.bmm(valid_decoder_pos,valid_encoder_pos.transpose(1,2))\n",
    "\n",
    "invalid_cross_pos_matrix=1-valid_cross_pos_matrix\n",
    "mask_cross_attention=invalid_cross_pos_matrix.to(torch.bool)\n",
    "print(mask_cross_attention)"
   ]
  },
  {
   "cell_type": "code",
   "execution_count": 136,
   "id": "b6a049e2",
   "metadata": {},
   "outputs": [
    {
     "name": "stdout",
     "output_type": "stream",
     "text": [
      "tensor([[[1.0000, 0.0000, 0.0000, 0.0000],\n",
      "         [0.1682, 0.8318, 0.0000, 0.0000],\n",
      "         [0.3949, 0.0959, 0.5092, 0.0000],\n",
      "         [0.7164, 0.1339, 0.1099, 0.0398]],\n",
      "\n",
      "        [[1.0000, 0.0000, 0.0000, 0.0000],\n",
      "         [0.2075, 0.7925, 0.0000, 0.0000],\n",
      "         [0.3732, 0.2749, 0.3519, 0.0000],\n",
      "         [0.2500, 0.2500, 0.2500, 0.2500]]])\n"
     ]
    }
   ],
   "source": [
    "#构造decoder self-attention的mask\n",
    "valid_decoder_tri_matrix=torch.cat(\n",
    "    [torch.unsqueeze(\n",
    "        F.pad(\n",
    "            torch.tril(\n",
    "                torch.ones((L,L))\n",
    "            ),\n",
    "            (0,max(tgt_len)-L,0,max(tgt_len)-L)\n",
    "        ),\n",
    "        0\n",
    "    ) \n",
    "        for L in tgt_len]\n",
    ")\n",
    "#for L in tgt_len只要在[]张量范围内就行\n",
    "#triu up上三角矩阵      tril low下三角矩阵\n",
    "#F的填充参数    N,N-1,N-2   也就是从矩阵的最后一个往前填充\n",
    "#valid_decoder_tri_matrix主要是表示是否用自判断     比如tgt_len4，3 对于第二个patch，只有3个有效seq，所以第四个位置对自己和对别人都无效\n",
    "invalid_decoder_tri_matrix=1-valid_decoder_tri_matrix\n",
    "invalid_decoder_tri_matrix=invalid_decoder_tri_matrix.to(torch.bool)\n",
    "\n",
    "score=torch.randn(batch_size,max(tgt_len),max(tgt_len))\n",
    "masked_score=score.masked_fill(invalid_decoder_tri_matrix,-1e9)\n",
    "prob=F.softmax(masked_score,-1)\n",
    "print(prob)"
   ]
  },
  {
   "cell_type": "code",
   "execution_count": null,
   "id": "974a1291",
   "metadata": {},
   "outputs": [],
   "source": [
    "#构建 self-attention   \n",
    "def scaled_dot_product_attention(Q,K,V,attention_mask):\n",
    "    score=torch.bmm(Q,K.transpose(-2,-1))/torch.sqrt(model_dim)\n",
    "    masked_score=score.masked_fill(attention_mask,-1e9)\n",
    "    prob=F.softmax(masked_score,-1)\n",
    "    context=torch.bmm(prob,V)\n",
    "    return context"
   ]
  },
  {
   "cell_type": "code",
   "execution_count": null,
   "id": "c687afb4",
   "metadata": {},
   "outputs": [],
   "source": [
    "torch.nn.Transformer"
   ]
  }
 ],
 "metadata": {
  "kernelspec": {
   "display_name": "transformer",
   "language": "python",
   "name": "python3"
  },
  "language_info": {
   "codemirror_mode": {
    "name": "ipython",
    "version": 3
   },
   "file_extension": ".py",
   "mimetype": "text/x-python",
   "name": "python",
   "nbconvert_exporter": "python",
   "pygments_lexer": "ipython3",
   "version": "3.10.18"
  }
 },
 "nbformat": 4,
 "nbformat_minor": 5
}
