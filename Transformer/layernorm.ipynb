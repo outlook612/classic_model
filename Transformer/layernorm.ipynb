{
 "cells": [
  {
   "cell_type": "code",
   "execution_count": 5,
   "id": "adc1bce2",
   "metadata": {},
   "outputs": [],
   "source": [
    "import torch\n",
    "import torch.nn as nn"
   ]
  },
  {
   "cell_type": "markdown",
   "id": "d3640bc2",
   "metadata": {},
   "source": [
    "![](Layernorm.png)"
   ]
  },
  {
   "cell_type": "code",
   "execution_count": 6,
   "id": "37394e1c",
   "metadata": {},
   "outputs": [],
   "source": [
    "class LayerNorm(nn.Module):\n",
    "    def __init__(self,d_model,eps=1e-12):\n",
    "        #eps 稳定性参数\n",
    "        super(LayerNorm,self).__init__()\n",
    "        self.gamma=nn.Parameter(torch.ones(d_model))\n",
    "        #缩放参数 全1\n",
    "        self.beta=nn.Parameter(torch.zeros(d_model))\n",
    "        #偏移参数 全0\n",
    "        self.eps=eps\n",
    "        #数值稳定性，避免出现除以0的情况\n",
    "    \n",
    "    def forward(self,x):\n",
    "        #keepdim保持维度对齐\n",
    "        mean=x.mean(-1,keepdim=True)\n",
    "        #x(128,32,512)  计算512维度的均值\n",
    "        var=x.var(-1,unbiased=False,keepdim=True)\n",
    "        #计算有偏方差公式的方差  不是标准差，是方差\n",
    "        out=(x-mean)/torch.sqrt(var+self.eps)\n",
    "        # 标准正态\n",
    "        out=self.gamma*out+self.beta\n",
    "        #仿射变换\n",
    "        return 0"
   ]
  },
  {
   "cell_type": "code",
   "execution_count": null,
   "id": "31f8b09c",
   "metadata": {},
   "outputs": [],
   "source": []
  }
 ],
 "metadata": {
  "kernelspec": {
   "display_name": "transformer",
   "language": "python",
   "name": "python3"
  },
  "language_info": {
   "codemirror_mode": {
    "name": "ipython",
    "version": 3
   },
   "file_extension": ".py",
   "mimetype": "text/x-python",
   "name": "python",
   "nbconvert_exporter": "python",
   "pygments_lexer": "ipython3",
   "version": "3.10.18"
  }
 },
 "nbformat": 4,
 "nbformat_minor": 5
}
